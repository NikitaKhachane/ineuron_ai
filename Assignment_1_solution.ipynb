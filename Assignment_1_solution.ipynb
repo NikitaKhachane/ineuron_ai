{
 "cells": [
  {
   "cell_type": "markdown",
   "id": "1611fa6d",
   "metadata": {},
   "source": [
    "1. In the below elements which of them are values or an expression? eg:- values can be integer or string and expressions will be mathematical operators.\n",
    "* \n",
    "'hello'\n",
    "-87.8\n",
    "- \n",
    "/ \n",
    "\t+\t\n",
    "6 \n",
    "\n",
    "\n",
    "\n",
    "2. What is the difference between string and variable?\n",
    "\n",
    "\n",
    "3. Describe three different data types.\n",
    "\n",
    "\n",
    "4. What is an expression made up of? What do all expressions do?\n",
    "\n",
    "\n",
    "5. This assignment statements, like spam = 10. What is the difference between an expression and a statement?\n",
    "\n",
    "\n",
    "6. After running the following code, what does the variable bacon contain?\n",
    "\n",
    "\n",
    "bacon = 22\n",
    "bacon + 1\n",
    "\n",
    "\n",
    "\n",
    "7. What should the values of the following two terms be?\n",
    "'spam' + 'spamspam'\n",
    "'spam' * 3\n",
    "\n",
    "\n",
    "\n",
    "8. Why is eggs a valid variable name while 100 is invalid?\n",
    "\n",
    "\n",
    "9. What three functions can be used to get the integer, floating-point number, or string version of a value?\n",
    "\n",
    "\n",
    "10. Why does this expression cause an error? How can you fix it?\n",
    "\n",
    "\n",
    "'I have eaten ' + 99 + ' burritos.'\n",
    "\n"
   ]
  },
  {
   "cell_type": "markdown",
   "id": "a25df0e8",
   "metadata": {},
   "source": [
    "##### 1) In the below elements which of them are values or an expression? eg:- values can be integer or string and expressions will be mathematical operators.\n",
    "'hello'\n",
    "87.8\n",
    "/\n",
    "6"
   ]
  },
  {
   "cell_type": "markdown",
   "id": "46e46ff4",
   "metadata": {},
   "source": [
    "'hello'  => string\n",
    "\n",
    "87.8     => float\n",
    "\n",
    "/        => operator\n",
    "\n",
    "6        => int\n",
    "\n"
   ]
  },
  {
   "cell_type": "markdown",
   "id": "dfddcbcc",
   "metadata": {},
   "source": [
    "#### 2. What is the difference between string and variable?"
   ]
  },
  {
   "cell_type": "markdown",
   "id": "476d91dc",
   "metadata": {},
   "source": [
    "sring = string is a sequence of characters, it is a data type. String is enclosed in single or double qutes('') or (\"\")\n",
    "\n",
    ".ex:- \"nikita\",\"soihosesdcd_/4453\"\n",
    "\n",
    "variable = variable is like box you can store any value in of any data type. (str,int,float,etc)"
   ]
  },
  {
   "cell_type": "markdown",
   "id": "38e9d552",
   "metadata": {},
   "source": [
    "#### 3. Describe three different data types."
   ]
  },
  {
   "cell_type": "markdown",
   "id": "0e02d856",
   "metadata": {},
   "source": [
    "string :- string stores charachter sequences\n",
    "\n",
    "int :- int is a data type for integer values, can not be decimal values\n",
    "\n",
    "float :- float is a data type which stores decimal values"
   ]
  },
  {
   "cell_type": "markdown",
   "id": "5d33019a",
   "metadata": {},
   "source": [
    "#### 4. What is an expression made up of? What do all expressions do?"
   ]
  },
  {
   "cell_type": "markdown",
   "id": "182d2f5f",
   "metadata": {},
   "source": [
    "An expression is made of different values, variables and operators (arithmetic, logical,comarision and more)\n",
    "\n",
    "use :- expression is used for get result(5+12) of a certain calculation or for decision making(3 < 5) etc."
   ]
  },
  {
   "cell_type": "markdown",
   "id": "e2a1020c",
   "metadata": {},
   "source": [
    "#### 5. This assignment statements, like spam = 10. What is the difference between an expression and a statement?\n"
   ]
  },
  {
   "cell_type": "markdown",
   "id": "7589a42e",
   "metadata": {},
   "source": [
    "expression:- An expression is made of different values, variables and operators.\n",
    "\n",
    "Statment :- A statment is a simple command tha tdoes not require any calcualtion ex:- print statment or break statement etc"
   ]
  },
  {
   "cell_type": "markdown",
   "id": "41db6cdf",
   "metadata": {},
   "source": [
    "#### 6. After running the following code, what does the variable bacon contain?"
   ]
  },
  {
   "cell_type": "code",
   "execution_count": 2,
   "id": "9f984edb",
   "metadata": {},
   "outputs": [
    {
     "data": {
      "text/plain": [
       "23"
      ]
     },
     "execution_count": 2,
     "metadata": {},
     "output_type": "execute_result"
    }
   ],
   "source": [
    "bacon = 22\n",
    "bacon + 1\n",
    "# variable bacon contain an int 23"
   ]
  },
  {
   "cell_type": "markdown",
   "id": "dad535a0",
   "metadata": {},
   "source": [
    "#### 7. What should the values of the following two terms be? 'spam' + 'spamspam' 'spam' * 3"
   ]
  },
  {
   "cell_type": "code",
   "execution_count": 3,
   "id": "090930d7",
   "metadata": {},
   "outputs": [
    {
     "data": {
      "text/plain": [
       "'spamspamspamspamspamspamspamspamspamspam'"
      ]
     },
     "execution_count": 3,
     "metadata": {},
     "output_type": "execute_result"
    }
   ],
   "source": [
    "'spam' + 'spamspam' 'spam' * 3"
   ]
  },
  {
   "cell_type": "code",
   "execution_count": 4,
   "id": "fe27750c",
   "metadata": {},
   "outputs": [],
   "source": [
    "# 10 times \"spam\" concated"
   ]
  },
  {
   "cell_type": "markdown",
   "id": "549998e6",
   "metadata": {},
   "source": [
    "#### 8. Why is eggs a valid variable name while 100 is invalid?"
   ]
  },
  {
   "cell_type": "markdown",
   "id": "733fd8ac",
   "metadata": {},
   "source": [
    "While defining a variable name, there are some rules, including the following :\n",
    "\n",
    "1) a variable name can not start with a number\n",
    "\n",
    "2) a variable name can not be a number\n",
    "\n",
    "and that's why, eggs is a valid variable name but 100 is n ot"
   ]
  },
  {
   "cell_type": "code",
   "execution_count": 5,
   "id": "117fd62f",
   "metadata": {},
   "outputs": [
    {
     "ename": "SyntaxError",
     "evalue": "invalid syntax (2912775800.py, line 1)",
     "output_type": "error",
     "traceback": [
      "\u001b[1;36m  Input \u001b[1;32mIn [5]\u001b[1;36m\u001b[0m\n\u001b[1;33m    1egg = 233\u001b[0m\n\u001b[1;37m     ^\u001b[0m\n\u001b[1;31mSyntaxError\u001b[0m\u001b[1;31m:\u001b[0m invalid syntax\n"
     ]
    }
   ],
   "source": [
    "1egg = 233\n",
    "# can not start with a number "
   ]
  },
  {
   "cell_type": "code",
   "execution_count": 6,
   "id": "8a615b31",
   "metadata": {},
   "outputs": [
    {
     "data": {
      "text/plain": [
       "123"
      ]
     },
     "execution_count": 6,
     "metadata": {},
     "output_type": "execute_result"
    }
   ],
   "source": [
    "eggs = 123\n",
    "eggs"
   ]
  },
  {
   "cell_type": "code",
   "execution_count": 7,
   "id": "2a526114",
   "metadata": {},
   "outputs": [
    {
     "ename": "SyntaxError",
     "evalue": "cannot assign to literal (4154832372.py, line 1)",
     "output_type": "error",
     "traceback": [
      "\u001b[1;36m  Input \u001b[1;32mIn [7]\u001b[1;36m\u001b[0m\n\u001b[1;33m    100 = 123\u001b[0m\n\u001b[1;37m    ^\u001b[0m\n\u001b[1;31mSyntaxError\u001b[0m\u001b[1;31m:\u001b[0m cannot assign to literal\n"
     ]
    }
   ],
   "source": [
    "100 = 123\n",
    "# variable name can not be a number "
   ]
  },
  {
   "cell_type": "markdown",
   "id": "be3418bb",
   "metadata": {},
   "source": [
    "#### 9. What three functions can be used to get the integer, floating-point number, or string version of a value?"
   ]
  },
  {
   "cell_type": "markdown",
   "id": "0119084f",
   "metadata": {},
   "source": [
    "To get string value : str()\n",
    "\n",
    "To get integer value : int()\n",
    "\n",
    "To get Float value : float()"
   ]
  },
  {
   "cell_type": "markdown",
   "id": "e6ec8813",
   "metadata": {},
   "source": [
    "#### 10. Why does this expression cause an error? How can you fix it?\n",
    "\n",
    "'I have eaten ' + 99 + ' burritos.'"
   ]
  },
  {
   "cell_type": "code",
   "execution_count": 8,
   "id": "d81e7f43",
   "metadata": {},
   "outputs": [
    {
     "ename": "TypeError",
     "evalue": "can only concatenate str (not \"int\") to str",
     "output_type": "error",
     "traceback": [
      "\u001b[1;31m---------------------------------------------------------------------------\u001b[0m",
      "\u001b[1;31mTypeError\u001b[0m                                 Traceback (most recent call last)",
      "Input \u001b[1;32mIn [8]\u001b[0m, in \u001b[0;36m<cell line: 1>\u001b[1;34m()\u001b[0m\n\u001b[1;32m----> 1\u001b[0m \u001b[38;5;124;43m'\u001b[39;49m\u001b[38;5;124;43mI have eaten \u001b[39;49m\u001b[38;5;124;43m'\u001b[39;49m\u001b[43m \u001b[49m\u001b[38;5;241;43m+\u001b[39;49m\u001b[43m \u001b[49m\u001b[38;5;241;43m99\u001b[39;49m \u001b[38;5;241m+\u001b[39m \u001b[38;5;124m'\u001b[39m\u001b[38;5;124m burritos.\u001b[39m\u001b[38;5;124m'\u001b[39m\n",
      "\u001b[1;31mTypeError\u001b[0m: can only concatenate str (not \"int\") to str"
     ]
    }
   ],
   "source": [
    "'I have eaten ' + 99 + ' burritos.'"
   ]
  },
  {
   "cell_type": "markdown",
   "id": "97aa1e41",
   "metadata": {},
   "source": [
    "This expression is giving an error beacaue we can not concatinate the values with diffterent datatypes\n",
    "\n",
    "We can fix it by enclosing 99 within quotes"
   ]
  },
  {
   "cell_type": "code",
   "execution_count": 9,
   "id": "4d753c7f",
   "metadata": {},
   "outputs": [
    {
     "data": {
      "text/plain": [
       "'I have eaten 99 burritos.'"
      ]
     },
     "execution_count": 9,
     "metadata": {},
     "output_type": "execute_result"
    }
   ],
   "source": [
    "'I have eaten ' + '99' + ' burritos.'"
   ]
  },
  {
   "cell_type": "code",
   "execution_count": null,
   "id": "e0e8afc2",
   "metadata": {},
   "outputs": [],
   "source": []
  }
 ],
 "metadata": {
  "kernelspec": {
   "display_name": "Python 3 (ipykernel)",
   "language": "python",
   "name": "python3"
  },
  "language_info": {
   "codemirror_mode": {
    "name": "ipython",
    "version": 3
   },
   "file_extension": ".py",
   "mimetype": "text/x-python",
   "name": "python",
   "nbconvert_exporter": "python",
   "pygments_lexer": "ipython3",
   "version": "3.9.12"
  }
 },
 "nbformat": 4,
 "nbformat_minor": 5
}
