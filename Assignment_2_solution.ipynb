{
 "cells": [
  {
   "cell_type": "markdown",
   "id": "7abbdf5f",
   "metadata": {},
   "source": [
    "##### 1) What are the two values of the Boolean data type? How do you write them?"
   ]
  },
  {
   "cell_type": "markdown",
   "id": "6a9e314e",
   "metadata": {},
   "source": [
    "There a re 2 values in boolean data type: true and false\n",
    "\n",
    "We Write them as : True , False (First letter always capital, it is case sensitive)"
   ]
  },
  {
   "cell_type": "markdown",
   "id": "389a25ba",
   "metadata": {},
   "source": [
    "##### 2) What are the three different types of Boolean operators?"
   ]
  },
  {
   "cell_type": "markdown",
   "id": "4ef32f1e",
   "metadata": {},
   "source": [
    "Three different types o boolean operators : AND, OR, NOT\n"
   ]
  },
  {
   "cell_type": "markdown",
   "id": "6795f243",
   "metadata": {},
   "source": [
    "##### 3)Make a list of each Boolean operator's truth tables(i.e. every possible combination of Boolean values for the operator and what it evaluate )"
   ]
  },
  {
   "cell_type": "code",
   "execution_count": 1,
   "id": "e7aec02f",
   "metadata": {},
   "outputs": [],
   "source": [
    "# Truth table for AND\n",
    "\n",
    "#   A  |  B  |  output\n",
    "#   0  |  0  |    0\n",
    "#   0  |  1  |    0\n",
    "#   1  |  0  |    0\n",
    "#   1  |  1  |    1\n",
    "\n",
    "# True AND True = True\n",
    "# True AND False = False\n",
    "# False AND True = False\n",
    "# False AND False = False"
   ]
  },
  {
   "cell_type": "code",
   "execution_count": 2,
   "id": "b54737a5",
   "metadata": {},
   "outputs": [],
   "source": [
    "# Truth table for OR\n",
    "\n",
    "#   A  |  B  |  output\n",
    "#   0  |  0  |    0\n",
    "#   0  |  1  |    1\n",
    "#   1  |  0  |    1\n",
    "#   1  |  1  |    1\n",
    "\n",
    "# True OR True = True\n",
    "# True OR False = True\n",
    "# False OR True = True\n",
    "# False OR False = False"
   ]
  },
  {
   "cell_type": "code",
   "execution_count": 3,
   "id": "da887eda",
   "metadata": {},
   "outputs": [],
   "source": [
    "# Truth table for NOT\n",
    "\n",
    "#   A  |  output\n",
    "#   0  |    1\n",
    "#   1  |    0\n",
    "\n",
    "#NOT True = False\n",
    "# NOT False = True"
   ]
  },
  {
   "cell_type": "markdown",
   "id": "00870d77",
   "metadata": {},
   "source": []
  },
  {
   "cell_type": "markdown",
   "id": "7849697f",
   "metadata": {},
   "source": [
    "##### 4) What are the values of the following expressions?\n",
    "\n",
    "1) (5 > 4) and (3 == 5)\n",
    "\n",
    "2) not (5 > 4)\n",
    "\n",
    "3) (5 > 4) or (3 == 5)\n",
    "\n",
    "4) not ((5 > 4) or (3 == 5))\n",
    "\n",
    "5) (True and True) and (True == False)"
   ]
  },
  {
   "cell_type": "code",
   "execution_count": 4,
   "id": "78ed18d2",
   "metadata": {},
   "outputs": [
    {
     "data": {
      "text/plain": [
       "False"
      ]
     },
     "execution_count": 4,
     "metadata": {},
     "output_type": "execute_result"
    }
   ],
   "source": [
    "#1\n",
    "(5 > 4) and (3 == 5)\n",
    "# True  AND  False"
   ]
  },
  {
   "cell_type": "code",
   "execution_count": 5,
   "id": "b45de1b1",
   "metadata": {},
   "outputs": [
    {
     "data": {
      "text/plain": [
       "False"
      ]
     },
     "execution_count": 5,
     "metadata": {},
     "output_type": "execute_result"
    }
   ],
   "source": [
    "#2\n",
    "not (5 > 4)\n",
    "#NOT True"
   ]
  },
  {
   "cell_type": "code",
   "execution_count": 6,
   "id": "c86fe614",
   "metadata": {},
   "outputs": [
    {
     "data": {
      "text/plain": [
       "True"
      ]
     },
     "execution_count": 6,
     "metadata": {},
     "output_type": "execute_result"
    }
   ],
   "source": [
    "#3\n",
    "(5 > 4) or (3 == 5)\n",
    "# True  OR  False"
   ]
  },
  {
   "cell_type": "code",
   "execution_count": 7,
   "id": "6aeee0e1",
   "metadata": {},
   "outputs": [
    {
     "data": {
      "text/plain": [
       "False"
      ]
     },
     "execution_count": 7,
     "metadata": {},
     "output_type": "execute_result"
    }
   ],
   "source": [
    "#4\n",
    "not ((5 > 4) or (3 == 5))\n",
    "# NOT (True  OR   False)\n",
    "# NOT (True)"
   ]
  },
  {
   "cell_type": "code",
   "execution_count": 8,
   "id": "65ff2d3d",
   "metadata": {},
   "outputs": [
    {
     "data": {
      "text/plain": [
       "False"
      ]
     },
     "execution_count": 8,
     "metadata": {},
     "output_type": "execute_result"
    }
   ],
   "source": [
    "#5\n",
    "(True and True) and (True == False)\n",
    "#(   True    )  AND  (   False   )"
   ]
  },
  {
   "cell_type": "markdown",
   "id": "20334e19",
   "metadata": {},
   "source": [
    "##### 5) What are the six comparison operators?"
   ]
  },
  {
   "cell_type": "markdown",
   "id": "683abd5c",
   "metadata": {},
   "source": [
    "Comparision Operators:-\n",
    "\n",
    "1) ==  Equal to \n",
    "\n",
    "2) <   less than\n",
    "\n",
    "3) >   Greater than\n",
    "\n",
    "4) <=  Less than equal to\n",
    "\n",
    "5) >=  Greater than equal to\n",
    "\n",
    "6) !=  Not Equal to"
   ]
  },
  {
   "cell_type": "markdown",
   "id": "6c361f12",
   "metadata": {},
   "source": [
    "###### 6) How do you tell the difference between the equal to and assignment operators?Describe a condition and when you would use one."
   ]
  },
  {
   "cell_type": "markdown",
   "id": "d8339af0",
   "metadata": {},
   "source": [
    "equal to operator is '==' we use it when we want to compare 2 variables or valuesto check if they are equal\n",
    "\n",
    "ex:- if a == 5:\n",
    "\n",
    "Assignmnet operator is '=' , we use to assign any value to a variable.\n",
    "\n",
    "ex:- a = 5"
   ]
  },
  {
   "cell_type": "markdown",
   "id": "5377a2ca",
   "metadata": {},
   "source": [
    "##### 7) Identify the three blocks in this code:\n"
   ]
  },
  {
   "cell_type": "code",
   "execution_count": 9,
   "id": "b4f6244d",
   "metadata": {},
   "outputs": [
    {
     "name": "stdout",
     "output_type": "stream",
     "text": [
      "ham\n",
      "spam\n",
      "spam\n"
     ]
    }
   ],
   "source": [
    "# 1st = if block\n",
    "# 2nd = if block\n",
    "# 3rd = else block\n",
    "\n",
    "spam = 0\n",
    "\n",
    "#1st block\n",
    "if spam == 10:\n",
    "    print('eggs')\n",
    "    \n",
    "#2nd block\n",
    "if spam > 5:\n",
    "    print('bacon')\n",
    "\n",
    "#3rd block\n",
    "else:\n",
    "    print('ham')\n",
    "    print('spam')\n",
    "    print('spam')"
   ]
  },
  {
   "cell_type": "markdown",
   "id": "476d3654",
   "metadata": {},
   "source": [
    "##### 8) Write code that prints Hello if 1 is stored in spam, prints Howdy if 2 is stored in spam, and prints Greetings! if anything else is stored in spam."
   ]
  },
  {
   "cell_type": "code",
   "execution_count": 11,
   "id": "f58a6633",
   "metadata": {},
   "outputs": [
    {
     "name": "stdout",
     "output_type": "stream",
     "text": [
      "Enter a number : 2\n",
      "Howdy\n"
     ]
    }
   ],
   "source": [
    "spam = int(input(\"Enter a number : \"))\n",
    "\n",
    "if spam == 1:\n",
    "    print('Hello')\n",
    "elif spam == 2:\n",
    "    print(\"Howdy\")\n",
    "else:\n",
    "    print(\"Greetings!\")"
   ]
  },
  {
   "cell_type": "markdown",
   "id": "0afd937e",
   "metadata": {},
   "source": [
    "##### 9) If your programme is stuck in an endless loop, what keys you’ll press?"
   ]
  },
  {
   "cell_type": "markdown",
   "id": "9b6e9eed",
   "metadata": {},
   "source": [
    "press key [Ctrl]+[c]"
   ]
  },
  {
   "cell_type": "markdown",
   "id": "1c5e0498",
   "metadata": {},
   "source": [
    "##### 10) How can you tell the difference between break and continue?"
   ]
  },
  {
   "cell_type": "markdown",
   "id": "e9b57858",
   "metadata": {},
   "source": [
    "Break statment: break statment will break out of the currently running loop and go for further exicution,exit the loop\n",
    "\n",
    "\n",
    "Continue tatment : Continue will skip the later part of teh loop and start again from the next iteration, go to starting of the loop"
   ]
  },
  {
   "cell_type": "code",
   "execution_count": 12,
   "id": "9f6f1e74",
   "metadata": {},
   "outputs": [
    {
     "name": "stdout",
     "output_type": "stream",
     "text": [
      "1\n",
      "2\n",
      "loop broken\n"
     ]
    }
   ],
   "source": [
    "# ex break statment:-\n",
    "\n",
    "for i in range(1,6):\n",
    "    if i != 3:\n",
    "        print(i)\n",
    "    else:\n",
    "        print(\"loop broken\")\n",
    "        break"
   ]
  },
  {
   "cell_type": "code",
   "execution_count": 13,
   "id": "4a89403f",
   "metadata": {},
   "outputs": [
    {
     "name": "stdout",
     "output_type": "stream",
     "text": [
      "1\n",
      "2\n",
      "loop continue\n",
      "4\n",
      "5\n"
     ]
    }
   ],
   "source": [
    "# ex continue statment:- \n",
    "\n",
    "for i in range(1,6):\n",
    "    if i == 3:\n",
    "        print(\"loop continue\")\n",
    "        continue\n",
    "    else:\n",
    "        print(i)"
   ]
  },
  {
   "cell_type": "markdown",
   "id": "c0375e41",
   "metadata": {},
   "source": [
    "##### 11) In a for loop, what is the difference between range(10), range(0, 10), and range(0, 10, 1)?"
   ]
  },
  {
   "cell_type": "code",
   "execution_count": 14,
   "id": "070f6d97",
   "metadata": {},
   "outputs": [],
   "source": [
    "#In a for loop, range function syntax is\n",
    "\n",
    "#range(start, stop[, step])\n",
    "\n",
    "#if we skip 'start' input, by deafult it is 0\n",
    "#Thus , range(10) and range(0,10) is same thing\n",
    "\n",
    "#the third parameter is step,\n",
    "#step is how many step to increment by, which is 1 by deafult.\n",
    "\n",
    "#thus all 3, range(10), range(0,10), and range(0,10,1) is the same thing and will give us same output\n",
    "# Note:- last number in range is exculded (so will only peint 0 to 9 digits)"
   ]
  },
  {
   "cell_type": "code",
   "execution_count": 15,
   "id": "ff60a67f",
   "metadata": {},
   "outputs": [
    {
     "name": "stdout",
     "output_type": "stream",
     "text": [
      "0\n",
      "1\n",
      "2\n"
     ]
    }
   ],
   "source": [
    "for i in range(3):\n",
    "    print(i)"
   ]
  },
  {
   "cell_type": "code",
   "execution_count": 16,
   "id": "d94dcfae",
   "metadata": {},
   "outputs": [
    {
     "name": "stdout",
     "output_type": "stream",
     "text": [
      "0\n",
      "1\n",
      "2\n"
     ]
    }
   ],
   "source": [
    "for i in range(0,3):\n",
    "    print(i)"
   ]
  },
  {
   "cell_type": "code",
   "execution_count": 17,
   "id": "1fc2733c",
   "metadata": {},
   "outputs": [
    {
     "name": "stdout",
     "output_type": "stream",
     "text": [
      "0\n",
      "1\n",
      "2\n"
     ]
    }
   ],
   "source": [
    "for i in range(0,3,1):\n",
    "    print(i)"
   ]
  },
  {
   "cell_type": "markdown",
   "id": "85378722",
   "metadata": {},
   "source": [
    "##### 12) Write a short program that prints the numbers 1 to 10 using a for loop.\n",
    "##### Then write an equivalent program that prints the numbers 1 to 10 using a while loop."
   ]
  },
  {
   "cell_type": "code",
   "execution_count": 18,
   "id": "c465d799",
   "metadata": {},
   "outputs": [
    {
     "name": "stdout",
     "output_type": "stream",
     "text": [
      "1\n",
      "2\n",
      "3\n",
      "4\n",
      "5\n",
      "6\n",
      "7\n",
      "8\n",
      "9\n",
      "10\n"
     ]
    }
   ],
   "source": [
    "# using for loop\n",
    "\n",
    "for i in range(1,11):\n",
    "    print(i)"
   ]
  },
  {
   "cell_type": "code",
   "execution_count": 19,
   "id": "96d337e6",
   "metadata": {},
   "outputs": [
    {
     "name": "stdout",
     "output_type": "stream",
     "text": [
      "1\n",
      "2\n",
      "3\n",
      "4\n",
      "5\n",
      "6\n",
      "7\n",
      "8\n",
      "9\n",
      "10\n"
     ]
    }
   ],
   "source": [
    "# Using While loop\n",
    "\n",
    "i = 1\n",
    "\n",
    "while i < 11:\n",
    "    print(i)\n",
    "    i+=1"
   ]
  },
  {
   "cell_type": "markdown",
   "id": "0c05b313",
   "metadata": {},
   "source": [
    "##### 13) If you had a function named bacon() inside a module named spam, how would you call it after importing spam?"
   ]
  },
  {
   "cell_type": "code",
   "execution_count": 20,
   "id": "9f0a680d",
   "metadata": {},
   "outputs": [],
   "source": [
    "# import spam\n",
    "\n",
    "# spam.bacon()"
   ]
  },
  {
   "cell_type": "code",
   "execution_count": null,
   "id": "9da9d287",
   "metadata": {},
   "outputs": [],
   "source": []
  }
 ],
 "metadata": {
  "kernelspec": {
   "display_name": "Python 3 (ipykernel)",
   "language": "python",
   "name": "python3"
  },
  "language_info": {
   "codemirror_mode": {
    "name": "ipython",
    "version": 3
   },
   "file_extension": ".py",
   "mimetype": "text/x-python",
   "name": "python",
   "nbconvert_exporter": "python",
   "pygments_lexer": "ipython3",
   "version": "3.9.12"
  }
 },
 "nbformat": 4,
 "nbformat_minor": 5
}
